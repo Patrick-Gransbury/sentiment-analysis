{
 "cells": [
  {
   "cell_type": "markdown",
   "metadata": {},
   "source": [
    "# Sentiment Analysis"
   ]
  },
  {
   "cell_type": "code",
   "execution_count": 15,
   "metadata": {},
   "outputs": [
    {
     "name": "stdout",
     "output_type": "stream",
     "text": [
      "Looking in indexes: https://download.pytorch.org/whl/cu121\n",
      "Requirement already satisfied: torch in c:\\python311\\lib\\site-packages (2.2.0+cu121)\n",
      "Requirement already satisfied: torchvision in c:\\python311\\lib\\site-packages (0.17.0+cu121)\n",
      "Requirement already satisfied: torchaudio in c:\\python311\\lib\\site-packages (2.2.0+cu121)\n",
      "Requirement already satisfied: filelock in c:\\python311\\lib\\site-packages (from torch) (3.11.0)\n",
      "Requirement already satisfied: typing-extensions>=4.8.0 in c:\\python311\\lib\\site-packages (from torch) (4.8.0)\n",
      "Requirement already satisfied: sympy in c:\\python311\\lib\\site-packages (from torch) (1.12)\n",
      "Requirement already satisfied: networkx in c:\\python311\\lib\\site-packages (from torch) (3.2.1)\n",
      "Requirement already satisfied: jinja2 in c:\\python311\\lib\\site-packages (from torch) (3.1.2)\n",
      "Requirement already satisfied: fsspec in c:\\python311\\lib\\site-packages (from torch) (2023.12.2)\n",
      "Requirement already satisfied: numpy in c:\\python311\\lib\\site-packages (from torchvision) (1.24.3)\n",
      "Requirement already satisfied: requests in c:\\python311\\lib\\site-packages (from torchvision) (2.31.0)\n",
      "Requirement already satisfied: pillow!=8.3.*,>=5.3.0 in c:\\python311\\lib\\site-packages (from torchvision) (9.5.0)\n",
      "Requirement already satisfied: MarkupSafe>=2.0 in c:\\python311\\lib\\site-packages (from jinja2->torch) (2.1.2)\n",
      "Requirement already satisfied: charset-normalizer<4,>=2 in c:\\python311\\lib\\site-packages (from requests->torchvision) (3.3.2)\n",
      "Requirement already satisfied: idna<4,>=2.5 in c:\\python311\\lib\\site-packages (from requests->torchvision) (3.6)\n",
      "Requirement already satisfied: urllib3<3,>=1.21.1 in c:\\python311\\lib\\site-packages (from requests->torchvision) (2.1.0)\n",
      "Requirement already satisfied: certifi>=2017.4.17 in c:\\python311\\lib\\site-packages (from requests->torchvision) (2022.12.7)\n",
      "Requirement already satisfied: mpmath>=0.19 in c:\\python311\\lib\\site-packages (from sympy->torch) (1.3.0)\n"
     ]
    }
   ],
   "source": [
    "!pip install torch torchvision torchaudio --index-url https://download.pytorch.org/whl/cu121"
   ]
  },
  {
   "cell_type": "code",
   "execution_count": 16,
   "metadata": {},
   "outputs": [
    {
     "name": "stdout",
     "output_type": "stream",
     "text": [
      "Requirement already satisfied: transformers in c:\\python311\\lib\\site-packages (4.37.2)\n",
      "Requirement already satisfied: requests in c:\\python311\\lib\\site-packages (2.31.0)\n",
      "Requirement already satisfied: beautifulsoup4 in c:\\python311\\lib\\site-packages (4.12.3)\n",
      "Requirement already satisfied: pandas in c:\\python311\\lib\\site-packages (2.0.1)\n",
      "Requirement already satisfied: numpy in c:\\python311\\lib\\site-packages (1.24.3)\n",
      "Requirement already satisfied: filelock in c:\\python311\\lib\\site-packages (from transformers) (3.11.0)\n",
      "Requirement already satisfied: huggingface-hub<1.0,>=0.19.3 in c:\\python311\\lib\\site-packages (from transformers) (0.20.3)\n",
      "Requirement already satisfied: packaging>=20.0 in c:\\python311\\lib\\site-packages (from transformers) (23.1)\n",
      "Requirement already satisfied: pyyaml>=5.1 in c:\\python311\\lib\\site-packages (from transformers) (6.0.1)\n",
      "Requirement already satisfied: regex!=2019.12.17 in c:\\python311\\lib\\site-packages (from transformers) (2023.12.25)\n",
      "Requirement already satisfied: tokenizers<0.19,>=0.14 in c:\\python311\\lib\\site-packages (from transformers) (0.15.1)\n",
      "Requirement already satisfied: safetensors>=0.4.1 in c:\\python311\\lib\\site-packages (from transformers) (0.4.2)\n",
      "Requirement already satisfied: tqdm>=4.27 in c:\\python311\\lib\\site-packages (from transformers) (4.66.1)\n",
      "Requirement already satisfied: charset-normalizer<4,>=2 in c:\\python311\\lib\\site-packages (from requests) (3.3.2)\n",
      "Requirement already satisfied: idna<4,>=2.5 in c:\\python311\\lib\\site-packages (from requests) (3.6)\n",
      "Requirement already satisfied: urllib3<3,>=1.21.1 in c:\\python311\\lib\\site-packages (from requests) (2.1.0)\n",
      "Requirement already satisfied: certifi>=2017.4.17 in c:\\python311\\lib\\site-packages (from requests) (2022.12.7)\n",
      "Requirement already satisfied: soupsieve>1.2 in c:\\python311\\lib\\site-packages (from beautifulsoup4) (2.5)\n",
      "Requirement already satisfied: python-dateutil>=2.8.2 in c:\\python311\\lib\\site-packages (from pandas) (2.8.2)\n",
      "Requirement already satisfied: pytz>=2020.1 in c:\\python311\\lib\\site-packages (from pandas) (2023.3)\n",
      "Requirement already satisfied: tzdata>=2022.1 in c:\\python311\\lib\\site-packages (from pandas) (2023.3)\n",
      "Requirement already satisfied: fsspec>=2023.5.0 in c:\\python311\\lib\\site-packages (from huggingface-hub<1.0,>=0.19.3->transformers) (2023.12.2)\n",
      "Requirement already satisfied: typing-extensions>=3.7.4.3 in c:\\python311\\lib\\site-packages (from huggingface-hub<1.0,>=0.19.3->transformers) (4.8.0)\n",
      "Requirement already satisfied: six>=1.5 in c:\\python311\\lib\\site-packages (from python-dateutil>=2.8.2->pandas) (1.16.0)\n",
      "Requirement already satisfied: colorama in c:\\python311\\lib\\site-packages (from tqdm>=4.27->transformers) (0.4.6)\n"
     ]
    }
   ],
   "source": [
    "!pip install transformers requests beautifulsoup4 pandas numpy"
   ]
  },
  {
   "cell_type": "code",
   "execution_count": 17,
   "metadata": {},
   "outputs": [],
   "source": [
    "from transformers import AutoTokenizer, AutoModelForSequenceClassification\n",
    "import torch\n",
    "import requests\n",
    "from bs4 import BeautifulSoup\n",
    "import re\n",
    "import numpy as np\n",
    "import pandas as pd\n",
    "\n",
    "from IPython.display import display, HTML"
   ]
  },
  {
   "cell_type": "markdown",
   "metadata": {},
   "source": [
    "### Instantiate Model"
   ]
  },
  {
   "cell_type": "code",
   "execution_count": 18,
   "metadata": {},
   "outputs": [],
   "source": [
    "tokeniser = AutoTokenizer.from_pretrained(\"nlptown/bert-base-multilingual-uncased-sentiment\")\n",
    "\n",
    "model = AutoModelForSequenceClassification.from_pretrained(\"nlptown/bert-base-multilingual-uncased-sentiment\")"
   ]
  },
  {
   "cell_type": "markdown",
   "metadata": {},
   "source": [
    "### Encode and Calculate Sentiment"
   ]
  },
  {
   "cell_type": "code",
   "execution_count": 19,
   "metadata": {},
   "outputs": [],
   "source": [
    "def sentiment_score(text):\n",
    "  tokens = tokeniser.encode(text, return_tensors='pt')\n",
    "  result = model(tokens)\n",
    "  return int(torch.argmax(result.logits))+1"
   ]
  },
  {
   "cell_type": "code",
   "execution_count": 20,
   "metadata": {},
   "outputs": [
    {
     "data": {
      "text/plain": [
       "3"
      ]
     },
     "execution_count": 20,
     "metadata": {},
     "output_type": "execute_result"
    }
   ],
   "source": [
    "sentiment_score(\"Could have been better.\")"
   ]
  },
  {
   "cell_type": "markdown",
   "metadata": {},
   "source": [
    "### Collect Reviews from YELP"
   ]
  },
  {
   "cell_type": "code",
   "execution_count": 21,
   "metadata": {},
   "outputs": [],
   "source": [
    "def headerAndReviews(html):\n",
    "    r = requests.get(html)\n",
    "    soup = BeautifulSoup(r.text, 'html.parser')\n",
    "    regex_heading = re.compile('.*heading*')\n",
    "    regex = re.compile('.*comment.*')\n",
    "    title = soup.find_all('div', {'class': regex_heading})\n",
    "    results = soup.find_all('p', {'class': regex})\n",
    "    heading = title[0].text\n",
    "    reviews = [result.text for result in results]\n",
    "    return heading, reviews"
   ]
  },
  {
   "cell_type": "markdown",
   "metadata": {},
   "source": [
    "### Show Reviews and overall rating"
   ]
  },
  {
   "cell_type": "code",
   "execution_count": 39,
   "metadata": {},
   "outputs": [],
   "source": [
    "def show_company_review(html):\n",
    "    heading, reviews = headerAndReviews(html)\n",
    "    df = pd.DataFrame(reviews, columns=['Review'])\n",
    "    \n",
    "    # Calculate average sentiment score\n",
    "    df['Sentiment Score'] = df['Review'].apply(sentiment_score)\n",
    "    avg_sentiment = df['Sentiment Score'].mean()\n",
    "    \n",
    "    # Create an empty HTML string to accumulate the content\n",
    "    html_content = ''\n",
    "    \n",
    "    # Add heading centered with larger font\n",
    "    html_content += f'<div style=\"font-size: 20px; font-weight: bold; text-align: center; margin-bottom: 10px;\">{heading}</div>'\n",
    "    \n",
    "    # Add average sentiment score centered\n",
    "    html_content += f'<div style=\"font-weight: bold; text-align: center; margin-bottom: 20px;\">Average Sentiment Score: {avg_sentiment:.1f}</div>'\n",
    "    \n",
    "    # Add column headers\n",
    "    headers_html = '<div style=\"display: flex; align-items: center; font-weight: bold; text-align: center; padding: 10px;\">'\n",
    "    headers_html += '<div style=\"flex: 1;\">Number</div>'\n",
    "    headers_html += '<div style=\"flex: 4;\">Review</div>'\n",
    "    headers_html += '<div style=\"flex: 2;\">Sentiment Score</div>'\n",
    "    headers_html += '</div>'\n",
    "    html_content += headers_html\n",
    "    \n",
    "    # Add rows for each review with more padding and no border lines\n",
    "    for i, row in df.iterrows():\n",
    "        html_content += '<div style=\"display: flex; align-items: center; text-align: center; padding: 15px;\">'\n",
    "        html_content += f'<div style=\"flex: 1;\">{i + 1}</div>'\n",
    "        html_content += f'<div style=\"flex: 4; max-width: 400px; overflow: hidden; text-overflow: ellipsis;\">{row[\"Review\"]}</div>'\n",
    "        html_content += f'<div style=\"flex: 2;\">{row[\"Sentiment Score\"]:.1f}</div>'\n",
    "        html_content += '</div>'\n",
    "    \n",
    "    # Display the accumulated HTML content\n",
    "    display(HTML(html_content))"
   ]
  },
  {
   "cell_type": "code",
   "execution_count": 40,
   "metadata": {},
   "outputs": [
    {
     "data": {
      "text/html": [
       "<div style=\"font-size: 20px; font-weight: bold; text-align: center; margin-bottom: 10px;\">Honest Burgers Meard St - Soho</div><div style=\"font-weight: bold; text-align: center; margin-bottom: 20px;\">Average Sentiment Score: 3.4</div><div style=\"display: flex; align-items: center; font-weight: bold; text-align: center; padding: 10px;\"><div style=\"flex: 1;\">Number</div><div style=\"flex: 4;\">Review</div><div style=\"flex: 2;\">Sentiment Score</div></div><div style=\"display: flex; align-items: center; text-align: center; padding: 15px;\"><div style=\"flex: 1;\">1</div><div style=\"flex: 4; max-width: 400px; overflow: hidden; text-overflow: ellipsis;\">Smashed burger and salad for 9 pounds, sign me upLove the fresh onions in the burger and the salad portion size was huge 10/10</div><div style=\"flex: 2;\">1.0</div></div><div style=\"display: flex; align-items: center; text-align: center; padding: 15px;\"><div style=\"flex: 1;\">2</div><div style=\"flex: 4; max-width: 400px; overflow: hidden; text-overflow: ellipsis;\">Honestly, very overrated. I watched one Eater YouTube of a Los Angelino  freaking out about this burger and he needs to turn in his L.A. credentials pronto. He said \"people in L.A. would be lining up out the door\" - get real man. This is pretty flat flavored burger that in no way competes with LA fast food legends like In & Out and more classic artisan offering like the legendary Father's Office Korean-influenced sandwich. I had the classic beef burger and added a side of the bacon beef gravy because that sounded quite decadent, and I found everything to be of that classic British one dimensional deep beef n' onion style. Not bad mind you and perfectly serviceable but given the hype and recommendations around this place I was expecting way, way more. Bun was also pretty boring despite looking like a beautiful baked and buttered delight.It was good enough to come back and try other stuff but I won't rush to do so.</div><div style=\"flex: 2;\">2.0</div></div><div style=\"display: flex; align-items: center; text-align: center; padding: 15px;\"><div style=\"flex: 1;\">3</div><div style=\"flex: 4; max-width: 400px; overflow: hidden; text-overflow: ellipsis;\">It was literally in a disguised pub in an alley way but I am glad I ran into it. Listen as a immediate burger connoisseur this was probably top 5 burgers I have ever had. The seating is pretty tight in there so be prepared to listen to other's conversations unintentionally lol. The service was just okay. Ordered the Beef Burger with Cheese. It has this onion relish on top that is to die for. The burger is juicy and beautifully cooked. Also appreciated that they have plant based options for my partners. The fries were perfect crispness and salted nicely. Everything else was a big drop off. The cider tasted very flat and the slaw had zero dressing.</div><div style=\"flex: 2;\">3.0</div></div><div style=\"display: flex; align-items: center; text-align: center; padding: 15px;\"><div style=\"flex: 1;\">4</div><div style=\"flex: 4; max-width: 400px; overflow: hidden; text-overflow: ellipsis;\">They make GOOD burgers. All the flavors were melting in my mouth. The rosemary fries were also delectable. Crispy on the outside, soft on the inside, and well salted. It's an awesome portion size and there were ketchup and mayo bottles on the table. Friendly staff, quick service, and good food!</div><div style=\"flex: 2;\">3.0</div></div><div style=\"display: flex; align-items: center; text-align: center; padding: 15px;\"><div style=\"flex: 1;\">5</div><div style=\"flex: 4; max-width: 400px; overflow: hidden; text-overflow: ellipsis;\">Chain store / franchise but great food with plenty of options - didn't know it was a chain</div><div style=\"flex: 2;\">4.0</div></div><div style=\"display: flex; align-items: center; text-align: center; padding: 15px;\"><div style=\"flex: 1;\">6</div><div style=\"flex: 4; max-width: 400px; overflow: hidden; text-overflow: ellipsis;\">Love their burgers. One of my favorites in London, they're consistently good and cheap and the staff is super friendly.</div><div style=\"flex: 2;\">5.0</div></div><div style=\"display: flex; align-items: center; text-align: center; padding: 15px;\"><div style=\"flex: 1;\">7</div><div style=\"flex: 4; max-width: 400px; overflow: hidden; text-overflow: ellipsis;\">In Soho you can find this very nice place to have a good burger of your choice. The bread was outstanding, the fries and the coleslaw were ok. En soho encontras esté lindo lugar para comer una buena hamburguesa de tu elección. El pan es increíble, las papas fritas y la coleslaw estuvieron ok.</div><div style=\"flex: 2;\">5.0</div></div><div style=\"display: flex; align-items: center; text-align: center; padding: 15px;\"><div style=\"flex: 1;\">8</div><div style=\"flex: 4; max-width: 400px; overflow: hidden; text-overflow: ellipsis;\">TIMING:   - Arrived at 8:30pm on a Saturday night   - Stood in line for 50 minutes and finally got a seat outsideFOOD:    1. 6 piece chicken wings         - Texture: crunchy with a thick sauce coating         - Seasoning: has a bit of a kick         - Portion: good for 2 people (if having burgers as well)    2. Honest burger (gluten-free bun, meat cooked medium-rare)         - Bun texture: best gluten-free bun I've ever had. Hands down         - Meat texture: cooked perfectly medium         - Chips: crunch level 3/5, but seasoned perfectly         - Seasoning: just right enough to add my own condiments if needed         - Portion: 1 burger was filling enough and there was more than enough fries to go around!    3. Kentucky Tea          - Perfect balance of lemonade and alcoholSERVICE:   - Friendly   - Understanding; we were seated before a group in front of us, and one of the girls said something in a different language. Little did she know, the host spoke the same language and called her out and said there was a table for 2 open when she was with a table of 3. Her ears turned red and she was apologetic. They were seated 5 minutes after us.EXTRA:   - This place is extremely small. I enjoyed sitting outside because it wasn't as loud. Although it was cramped in the corner, I never felt rushed and we enjoyed our time here   - Again, best gluten-free buns I've EVER hadWOULD RECOMMEND?   - Yes! I missed my chance to come here a few years ago and glad I had the chance this year. Will be back the next time I'm in London also!</div><div style=\"flex: 2;\">4.0</div></div><div style=\"display: flex; align-items: center; text-align: center; padding: 15px;\"><div style=\"flex: 1;\">9</div><div style=\"flex: 4; max-width: 400px; overflow: hidden; text-overflow: ellipsis;\">Loved the burgers and fries so delicious we went twice on our 3 days trip in London!!! Highly recommend!!!</div><div style=\"flex: 2;\">5.0</div></div><div style=\"display: flex; align-items: center; text-align: center; padding: 15px;\"><div style=\"flex: 1;\">10</div><div style=\"flex: 4; max-width: 400px; overflow: hidden; text-overflow: ellipsis;\">Honestly, we sat down, waited ten minutes for our order to be taken, then half an hour for half our order to come. When we asked there was a \"printer error\". I'm not sure how a printer managed to turn a 2, into a 1 but sure, sounds \"honest\". We asked for the rest of our order and were told 8-10 minutes. 20 minutes later we were still waiting. People were being served ahead of us, despite the wait, which is disgusting. Surely if you'd made a mistake you'd prioritise the mistake over everything else, wouldn't you? The only reason this gets two stars rather than one is because they offered our \"meal\" on the house. To be honest I wouldn't have paid for such terrible service anyway.We will not be eating here again. Severely disappointed, which is a shame as their Brighton restaurant was amazing.</div><div style=\"flex: 2;\">2.0</div></div>"
      ],
      "text/plain": [
       "<IPython.core.display.HTML object>"
      ]
     },
     "metadata": {},
     "output_type": "display_data"
    }
   ],
   "source": [
    "html_content = 'https://www.yelp.com/biz/honest-burgers-meard-st-soho-london?osq=Burgers'\n",
    "show_company_review(html_content)"
   ]
  }
 ],
 "metadata": {
  "kernelspec": {
   "display_name": "Python 3",
   "language": "python",
   "name": "python3"
  },
  "language_info": {
   "codemirror_mode": {
    "name": "ipython",
    "version": 3
   },
   "file_extension": ".py",
   "mimetype": "text/x-python",
   "name": "python",
   "nbconvert_exporter": "python",
   "pygments_lexer": "ipython3",
   "version": "3.11.2"
  }
 },
 "nbformat": 4,
 "nbformat_minor": 2
}
